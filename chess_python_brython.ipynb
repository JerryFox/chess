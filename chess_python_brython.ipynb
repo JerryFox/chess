{
 "cells": [
  {
   "cell_type": "markdown",
   "metadata": {
    "collapsed": true
   },
   "source": [
    "# Šachy - cvičná webová aplikace\n",
    "\n",
    "\n",
    "## Použití jazyka Python na backendu i frontendu\n",
    "\n",
    "\n",
    "Malé promo týkající se dané problematiky je možno najít na serveru [kraken.pedf.cuni.cz](https://kraken.pedf.cuni.cz/~vysokyjar/)\n"
   ]
  },
  {
   "cell_type": "markdown",
   "metadata": {},
   "source": [
    "### motivace"
   ]
  },
  {
   "cell_type": "markdown",
   "metadata": {},
   "source": [
    "### backend\n"
   ]
  },
  {
   "cell_type": "markdown",
   "metadata": {},
   "source": [
    "### frontend\n"
   ]
  },
  {
   "cell_type": "markdown",
   "metadata": {},
   "source": [
    "### SVG"
   ]
  },
  {
   "cell_type": "markdown",
   "metadata": {},
   "source": [
    "### Jupyter notebook"
   ]
  },
  {
   "cell_type": "markdown",
   "metadata": {},
   "source": [
    "### vývojové prostředí"
   ]
  },
  {
   "cell_type": "markdown",
   "metadata": {},
   "source": [
    "### struktura aplikace"
   ]
  }
 ],
 "metadata": {
  "kernelspec": {
   "display_name": "Python 3.5",
   "language": "python",
   "name": "python3.5"
  },
  "language_info": {
   "codemirror_mode": {
    "name": "ipython",
    "version": 3
   },
   "file_extension": ".py",
   "mimetype": "text/x-python",
   "name": "python",
   "nbconvert_exporter": "python",
   "pygments_lexer": "ipython3",
   "version": "3.5.2"
  }
 },
 "nbformat": 4,
 "nbformat_minor": 0
}
