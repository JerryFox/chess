{
 "cells": [
  {
   "cell_type": "markdown",
   "metadata": {},
   "source": [
    "# Šachy - cvičení\n",
    "\n",
    "## pozice na šachovnici\n",
    "\n",
    "Pozici definujeme řetězcem s následujícími symboly: \n",
    "* K - king (král)\n",
    "* Q - queen (dáma)\n",
    "* R - rook (věž)\n",
    "* N - knight (jezdec)\n",
    "* B - bishop (střelec)\n",
    "* P - pawn (pěšec)\n",
    "\n",
    "Velkými písmeny označujeme figury bílé, malými písmeny černé. \n",
    "\n",
    "Bude se nám asi hodit definovat \"konstantu\" obsahující přípustné symboly figur: "
   ]
  },
  {
   "cell_type": "code",
   "execution_count": 3,
   "metadata": {
    "collapsed": true
   },
   "outputs": [],
   "source": [
    "FIGURES = \"RNBKQBNRPrnbkqbnrp\""
   ]
  },
  {
   "cell_type": "markdown",
   "metadata": {},
   "source": [
    "Šachovnici orientujeme v základním postavení nahoře bílé figury, dole černé. Políčka indexujeme od nuly zleva doprava, shora dolů. \n",
    "\n",
    "Pro popis postavení figur na šachovnici používáme pozici definovanou řetězcem, který obsahuje jména figur a pomlčky pro prázdná pole. Postupně shora dolů, zleva doprava pro každé políčko jeden znak. \n",
    "\n",
    "Např. pro základní postavení a prázdnou šachovnici: "
   ]
  },
  {
   "cell_type": "code",
   "execution_count": 4,
   "metadata": {
    "collapsed": false
   },
   "outputs": [
    {
     "name": "stdout",
     "output_type": "stream",
     "text": [
      "RNBKQBNRPPPPPPPP--------------------------------pppppppprnbkqbnr\n",
      "----------------------------------------------------------------\n"
     ]
    }
   ],
   "source": [
    "base_position = \"RNBKQBNR\" + \"P\" * 8 + \"-\" * 32 + \"p\" * 8 + \"rnbkqbnr\"\n",
    "blank_position = \"-\" * 64\n",
    "print(base_position)\n",
    "print(blank_position)"
   ]
  },
  {
   "cell_type": "markdown",
   "metadata": {},
   "source": [
    "Sekvence pomlček můžeme nahradit číslem odpovídajícím počtu pomlček za sebou. V případě jedné pomlčky ponecháme v řetězci (pro přehlednost) pomlčku. \n",
    "\n",
    "base_position: \"RNBKQBNRPPPPPPPP32pppppppprnbkqbnr\"\n",
    "blank_position: \"64\"\n",
    "\n",
    "V programu budeme v komprimované podobě tolerovat vypuštění koncových prázdných polí. Bude-li tedy řetězec generovat méně než 64 polí, zbylá pole považujeme za prázdná. \n",
    "\n",
    "Definujme funkci pro převod nekomprimované pozice na komprimovanou. Políčka neobsahující symbol figury budeme považovat za prázdná. \n",
    "\n",
    "### unpacked_to_packed_position"
   ]
  },
  {
   "cell_type": "code",
   "execution_count": 10,
   "metadata": {
    "collapsed": false
   },
   "outputs": [
    {
     "name": "stdout",
     "output_type": "stream",
     "text": [
      "RNBKQBNRPPPPPPPP32pppppppprnbkqbnr\n",
      "3KQ54kq\n",
      "3K-Q53k-q\n"
     ]
    }
   ],
   "source": [
    "FIGURES = \"RNBKQBNRPrnbkqbnrp\"\n",
    "\n",
    "def unpacked_to_packed_position(position): \n",
    "    packed_position = \"\"\n",
    "    number_of_blanks = 0 \n",
    "    for character in position: \n",
    "        if character not in FIGURES: \n",
    "            number_of_blanks += 1\n",
    "        else: \n",
    "            # write number of blanks or single blank before figure\n",
    "            if number_of_blanks: \n",
    "                packed_position += \"-\" if number_of_blanks == 1 else str(number_of_blanks)\n",
    "                number_of_blanks = 0   # blanks are written\n",
    "            # write figure\n",
    "            packed_position += character\n",
    "    # possible rest in number_of_blanks is ignored\n",
    "    return packed_position\n",
    "            \n",
    "# test: \n",
    "position = \"RNBKQBNR\" + \"P\" * 8 + \"-\" * 32 + \"p\" * 8 + \"rnbkqbnr\"\n",
    "print(unpacked_to_packed_position(position))\n",
    "position = \"---KQ---\" + \"--------\" * 6 + \"---kq---\"\n",
    "print(unpacked_to_packed_position(position))\n",
    "position = \"---K-Q--\" + \"--------\" * 6 + \"---k q--\"\n",
    "print(unpacked_to_packed_position(position))\n",
    "\n",
    "        "
   ]
  },
  {
   "cell_type": "markdown",
   "metadata": {},
   "source": [
    "Zkusme napsat také funkci pro opačný převod. V této funkci připustíme speciální pozice \"base\" a \"blank\" pro základní postavení a prázdnou šachovnici. \n",
    "\n",
    "### packed_to_unpacked_position"
   ]
  },
  {
   "cell_type": "code",
   "execution_count": 32,
   "metadata": {
    "collapsed": false
   },
   "outputs": [
    {
     "name": "stdout",
     "output_type": "stream",
     "text": [
      "RNBKQBNRPPPPPPPP--------------------------------pppppppprnbkqbnr\n",
      "---KQ------------------------------------------------------kq---\n",
      "---K-Q-----------------------------------------------------k-q--\n"
     ]
    }
   ],
   "source": [
    "FIGURES = \"RNBKQBNRPrnbkqbnrp\"\n",
    "\n",
    "def packed_to_unpacked_position(position=\"base\"): \n",
    "    if position == \"base\": \n",
    "        position = \"RNBKQBNR\" + \"P\" * 8 + \"-\" * 32 + \"p\" * 8 + \"rnbkqbnr\"\n",
    "    elif position == \"blank\": \n",
    "        position = \"\"\n",
    "    number_of_blanks = 0\n",
    "    unpacked_position = \"\"\n",
    "    for character in position: \n",
    "        if character.isdigit():\n",
    "            number_of_blanks = number_of_blanks * 10 + int(character)\n",
    "            #print(number_of_blanks)\n",
    "        else:\n",
    "            unpacked_position += \"-\" * number_of_blanks \n",
    "            number_of_blanks = 0\n",
    "            unpacked_position += character if character in FIGURES else \"-\"\n",
    "    # justify to 64 characters\n",
    "    unpacked_position = (unpacked_position + \"-\" * 64)[:64]\n",
    "    return unpacked_position\n",
    "        \n",
    "# test: \n",
    "position = \"RNBKQBNRPPPPPPPP32pppppppprnbkqbnr\"\n",
    "print(packed_to_unpacked_position(position))\n",
    "position = \"3KQ54kq\"\n",
    "print(packed_to_unpacked_position(position))\n",
    "position = \"3K-Q53k-q\"\n",
    "print(packed_to_unpacked_position(position))\n",
    " "
   ]
  },
  {
   "cell_type": "markdown",
   "metadata": {},
   "source": [
    "## Šachovnice\n",
    "\n",
    "Když budeme řešit nějakou šachovou úlohu, bude se nám hodit pro vnitřní reprezentaci nějaký lepší model než řetěcec popisující polohu figur na šachovnici. Logicky se nabízí nějaké pole - seznam (seznamů), který budeme indexovat řádkovou a sloupcovou souřadnicí. Uspořádání jsme si stanovili už v úvodu. \n",
    "\n",
    "Když budete hledat nějaké informace o seznamech (polích) v Pythonu, pamatujte, že seznam je anglicky list. Seznamy (vícerozměrné) můžeme definovat pomocí (vnořených) cyklů. Obvyklý je zkrácený zápis - list comprehension. \n",
    "\n",
    "Prázdnou šachovnici bychom mohli definovat třeba takto: "
   ]
  },
  {
   "cell_type": "code",
   "execution_count": 21,
   "metadata": {
    "collapsed": false
   },
   "outputs": [
    {
     "name": "stdout",
     "output_type": "stream",
     "text": [
      "[['', '', '', '', '', '', '', ''],\n",
      " ['', '', '', '', '', '', '', ''],\n",
      " ['', '', '', '', '', '', '', ''],\n",
      " ['', '', '', '', '', '', '', ''],\n",
      " ['', '', '', '', '', '', '', ''],\n",
      " ['', '', '', '', '', '', '', ''],\n",
      " ['', '', '', '', '', '', '', ''],\n",
      " ['', '', '', '', '', '', '', '']]\n"
     ]
    }
   ],
   "source": [
    "from pprint import pprint\n",
    "\n",
    "ch1 = []     # empty list\n",
    "ch2 = [[]]   # list of one emty list\n",
    "ch3 = [[], [], [], [], [], [], [], []]  # list of 8 empty lists\n",
    "ch3a = [[] for i in range(8)] # as above with list comprehension\n",
    "ch4 = [[\"\", \"\", \"\", \"\", \"\", \"\", \"\", \"\"]] # list of one list of 8 empty strins\n",
    "ch4a = [[\"\" for i in range(8)]] # as above with list comprehension\n",
    "ch5 = [[\"\" for i in range(8)] for j in range(8)] # list of 8 lists of 8 empty strins\n",
    "pprint(ch5) # it can be a model of empty chessboard"
   ]
  },
  {
   "cell_type": "markdown",
   "metadata": {},
   "source": [
    "Mějme na paměti, že se v seznamech indexuje od nuly! Dle naší dohody o uspořádání by měly být figury v následujícím příkladu umístěny na svou výchozí pozici. (Pokud ne, tak to není proto, že neumím indexovat, ale protože neumím šachy.) \n",
    "\n",
    "Aby to lépe vypadalo, jsou prázdná pole reprezentovaná mezerou. "
   ]
  },
  {
   "cell_type": "code",
   "execution_count": 24,
   "metadata": {
    "collapsed": false
   },
   "outputs": [
    {
     "name": "stdout",
     "output_type": "stream",
     "text": [
      "[[' ', ' ', ' ', 'K', 'Q', ' ', ' ', ' '],\n",
      " [' ', ' ', ' ', ' ', ' ', ' ', ' ', ' '],\n",
      " [' ', ' ', ' ', ' ', ' ', ' ', ' ', ' '],\n",
      " [' ', ' ', ' ', ' ', ' ', ' ', ' ', ' '],\n",
      " [' ', ' ', ' ', ' ', ' ', ' ', ' ', ' '],\n",
      " [' ', ' ', ' ', ' ', ' ', ' ', ' ', ' '],\n",
      " [' ', ' ', ' ', ' ', ' ', ' ', ' ', ' '],\n",
      " [' ', ' ', ' ', 'k', 'q', ' ', ' ', ' ']]\n"
     ]
    }
   ],
   "source": [
    "from pprint import pprint\n",
    "\n",
    "chessb = [[\" \" for i in range(8)] for j in range(8)]\n",
    "\n",
    "chessb[0][3] = \"K\"\n",
    "chessb[0][4] = \"Q\"\n",
    "chessb[7][3] = \"k\"\n",
    "chessb[7][4] = \"q\"\n",
    "\n",
    "pprint(chessb)"
   ]
  },
  {
   "cell_type": "markdown",
   "metadata": {},
   "source": [
    "Co kdybychom chtěli dostat takovouto krásnou maticovou reprezentaci šachovnice z výše definovaného řetězce reprezentujícího pozici? Tady budeme potřebovat ten nekomprimovaný tvar. Budeme předpokládat korektní řetězec. Pomocí list comprehension bychom to mohli udělat následovně: "
   ]
  },
  {
   "cell_type": "code",
   "execution_count": 26,
   "metadata": {
    "collapsed": false
   },
   "outputs": [
    {
     "name": "stdout",
     "output_type": "stream",
     "text": [
      "[['R', 'N', 'B', 'K', 'Q', 'B', 'N', 'R'],\n",
      " ['P', 'P', 'P', 'P', 'P', 'P', 'P', 'P'],\n",
      " ['-', '-', '-', '-', '-', '-', '-', '-'],\n",
      " ['-', '-', '-', '-', '-', '-', '-', '-'],\n",
      " ['-', '-', '-', '-', '-', '-', '-', '-'],\n",
      " ['-', '-', '-', '-', '-', '-', '-', '-'],\n",
      " ['p', 'p', 'p', 'p', 'p', 'p', 'p', 'p'],\n",
      " ['r', 'n', 'b', 'k', 'q', 'b', 'n', 'r']]\n"
     ]
    }
   ],
   "source": [
    "position = \"RNBKQBNRPPPPPPPP--------------------------------pppppppprnbkqbnr\"\n",
    "chessb = [list(position[i * 8 : i * 8 + 8]) for i in range(8)]\n",
    "pprint(chessb)"
   ]
  },
  {
   "cell_type": "markdown",
   "metadata": {},
   "source": [
    "Kdybychom chtěli pomlčky v matici nahradit např. mezerami, mohli bychom to udělat vnořeným list comprehension takhle: "
   ]
  },
  {
   "cell_type": "code",
   "execution_count": 28,
   "metadata": {
    "collapsed": false
   },
   "outputs": [
    {
     "name": "stdout",
     "output_type": "stream",
     "text": [
      "[['R', 'N', 'B', 'K', 'Q', 'B', 'N', 'R'],\n",
      " ['P', 'P', 'P', 'P', 'P', 'P', 'P', 'P'],\n",
      " [' ', ' ', ' ', ' ', ' ', ' ', ' ', ' '],\n",
      " [' ', ' ', ' ', ' ', ' ', ' ', ' ', ' '],\n",
      " [' ', ' ', ' ', ' ', ' ', ' ', ' ', ' '],\n",
      " [' ', ' ', ' ', ' ', ' ', ' ', ' ', ' '],\n",
      " ['p', 'p', 'p', 'p', 'p', 'p', 'p', 'p'],\n",
      " ['r', 'n', 'b', 'k', 'q', 'b', 'n', 'r']]\n"
     ]
    }
   ],
   "source": [
    "position = \"RNBKQBNRPPPPPPPP--------------------------------pppppppprnbkqbnr\"\n",
    "chessb = [[\" \" if c == \"-\" else c for c in position[i * 8 : i * 8 + 8]] for i in range(8)]\n",
    "pprint(chessb)"
   ]
  },
  {
   "cell_type": "markdown",
   "metadata": {},
   "source": [
    "Pokud vám ten zápis dloube mozek, tak zapomeňte, že nějaký list comprhension existuje, a pěkně si to udělejte růčo. Napište si vnořené cykly pomocí kterých uděláte vše potřebné. Možná při tom uděláte pár chyb, na kterých se naučíte, jak seznamy fungují, takže to bude i užitečné. Až vás ta ruční práce přestane bavit, tak si vzpomeňte na \"list comprehension\", ať víte, co googlit. \n",
    "\n",
    "Hlavně dejte pozor že např. následující příklad je BLBĚ! Doufám, že mi všichni dokážete říct proč. "
   ]
  },
  {
   "cell_type": "code",
   "execution_count": 30,
   "metadata": {
    "collapsed": false
   },
   "outputs": [
    {
     "name": "stdout",
     "output_type": "stream",
     "text": [
      "TOHLE JE BLBĚ, I KDYŽ TO TAK MOŽNÁ NEVYPADÁ\n",
      "[[' ', ' ', ' ', ' ', ' ', ' ', ' ', ' '],\n",
      " [' ', ' ', ' ', ' ', ' ', ' ', ' ', ' '],\n",
      " [' ', ' ', ' ', ' ', ' ', ' ', ' ', ' '],\n",
      " [' ', ' ', ' ', ' ', ' ', ' ', ' ', ' '],\n",
      " [' ', ' ', ' ', ' ', ' ', ' ', ' ', ' '],\n",
      " [' ', ' ', ' ', ' ', ' ', ' ', ' ', ' '],\n",
      " [' ', ' ', ' ', ' ', ' ', ' ', ' ', ' '],\n",
      " [' ', ' ', ' ', ' ', ' ', ' ', ' ', ' ']]\n",
      "THIS IS VERY BAD DESPITE THE PRETTY OUTPUT\n"
     ]
    }
   ],
   "source": [
    "row = [\" \", \" \", \" \", \" \", \" \", \" \", \" \", \" \"]\n",
    "chessb = []\n",
    "for i in range(8): \n",
    "    chessb.append(row)\n",
    "    \n",
    "print(\"TOHLE JE BLBĚ, I KDYŽ TO TAK MOŽNÁ NEVYPADÁ\")\n",
    "pprint(chessb)\n",
    "print(\"THIS IS VERY BAD DESPITE THE PRETTY OUTPUT\")"
   ]
  },
  {
   "cell_type": "markdown",
   "metadata": {},
   "source": [
    "#### OTÁZKA:\n",
    "\n",
    "Jaká drobná úprava by stačila, aby to bylo dobře. (I když hnusný by to zůstalo...)"
   ]
  },
  {
   "cell_type": "markdown",
   "metadata": {},
   "source": [
    "## Třídy a objekty\n",
    "\n",
    "Asi se nám bude hodit s těmi šachovnicemi pracovat objektově. Vytvoříme šachovnici, budeme k ní mít k dispozici nějaké vlastnosti (třeba rozložení figur) a nějaké metody - funkce, které si předem vymyslíme nebo později domyslíme. \n",
    "\n",
    "Jako šikovné vlastnosti se nám jeví řetězcové rozložení figur, a asi i maticová reprezantace, protože se dá očekávat, že s ní budeme pracovat často. Když budeme šachovnici \"konstruovat\", tak vyjdeme z té řetězcové pozice, kterou můžeme zadat v komprimovaném tvaru. \n",
    "\n",
    "V naší třídě můžeme použít i funkce, které jsme si definovali vně této třídy, ale musejí být aktuálně dostupné. Hned na začátku použijeme [packed_to_unpacked_position](#packed_to_unpacked_position). Pokud aktuálně není nadefinována, tak to napravte (spusťte její definici). \n",
    "\n",
    "Takže by to mohlo vypadat nějak takhle: "
   ]
  },
  {
   "cell_type": "code",
   "execution_count": 35,
   "metadata": {
    "collapsed": false
   },
   "outputs": [
    {
     "name": "stdout",
     "output_type": "stream",
     "text": [
      "base\n",
      "[['R', 'N', 'B', 'K', 'Q', 'B', 'N', 'R'],\n",
      " ['P', 'P', 'P', 'P', 'P', 'P', 'P', 'P'],\n",
      " [' ', ' ', ' ', ' ', ' ', ' ', ' ', ' '],\n",
      " [' ', ' ', ' ', ' ', ' ', ' ', ' ', ' '],\n",
      " [' ', ' ', ' ', ' ', ' ', ' ', ' ', ' '],\n",
      " [' ', ' ', ' ', ' ', ' ', ' ', ' ', ' '],\n",
      " ['p', 'p', 'p', 'p', 'p', 'p', 'p', 'p'],\n",
      " ['r', 'n', 'b', 'k', 'q', 'b', 'n', 'r']]\n"
     ]
    }
   ],
   "source": [
    "class Chessboard: \n",
    "\n",
    "    def __init__(self, position=\"base\"):\n",
    "        self.position = position\n",
    "        self.chessboard = self.get_chessboard()\n",
    "        \n",
    "    def get_chessboard(self):\n",
    "        position = packed_to_unpacked_position(self.position)\n",
    "        chessboard = [[\" \" if c == \"-\" else c \n",
    "                       for c in position[i * 8 : i * 8 + 8]] for i in range(8)]\n",
    "        return chessboard\n",
    "\n",
    "# test\n",
    "from pprint import pprint\n",
    "ch = Chessboard()\n",
    "print(ch.position)\n",
    "pprint(ch.chessboard)\n"
   ]
  },
  {
   "cell_type": "markdown",
   "metadata": {},
   "source": [
    "## Vizualizace šachovnice\n",
    "\n",
    "Pretty print je hezká věc, ale když se budete chtít někomu neznalému pochlubit se svojí šachovnicí, tak s ním mnoho slávy nesklidíte. Lidi mají rádi obrázky. A nejlépe ty na netu. Že jste byli na super dovolené a máte odtamtud pár povedených záběrů? Fajn, pošli mi odkaz! Takže i my se budeme snažit o prezentaci naší práce prostřednictvím webu. Třeba se nakonec i dopracujeme k nějaké plnohodnotné webové aplikaci. Musíme ale postupovat drobnými krůčky, abychom si nedali na hubičku a nebáli se pak ani postavit. \n",
    "\n",
    "Co budeme potřebovat? Především obrázky figurek a samotné šachovnice. Budeme používat obrázky vektorové ve formátu SVG, protože současný web má tenhle formát rád. Ty, co jsem zvolil, pocházejí asi odsud: https://commons.wikimedia.org/wiki/Category:SVG_chess_pieces, zvolená orientace má původ, tuším, tady: https://commons.wikimedia.org/wiki/File:AAA_SVG_Chessboard_and_chess_pieces_04.svg. Posléze jsem zjistil, že se asi většinou používá zobrazení otočené o 180 stupňů, ale to je pro naše účely celkem jedno. \n",
    "\n",
    "Potřebné obrázky by mohly být někde v adresáři [static/images](static/images/) nebo tak nějak. Jestli je nemáte někde u sebe, tak by měly být u mě na githubu: https://github.com/JerryFox/chess/tree/master/static/images. Jednotlivé obrázky respektive SVG obecně dokáže zobrazit samotný webový prohlížeč, ale budete je muset mít buď u sebe na disku nebo na nějakém webovém serveru. Momentálně jsou třeba tady: http://vysoky.pythonanywhere.com/files/chess/images, ale jejich budoucí existence zde je nejistá. \n",
    "\n"
   ]
  }
 ],
 "metadata": {
  "kernelspec": {
   "display_name": "Python 3",
   "language": "python",
   "name": "python3"
  },
  "language_info": {
   "codemirror_mode": {
    "name": "ipython",
    "version": 3
   },
   "file_extension": ".py",
   "mimetype": "text/x-python",
   "name": "python",
   "nbconvert_exporter": "python",
   "pygments_lexer": "ipython3",
   "version": "3.4.3"
  }
 },
 "nbformat": 4,
 "nbformat_minor": 2
}
