{
 "cells": [
  {
   "cell_type": "markdown",
   "metadata": {},
   "source": [
    "# Šachy - cvičení 02\n",
    "\n",
    "předcházející část: [chess_exercise01.ipynb](chess_exercise01.ipynb)\n",
    "\n",
    "Díky předcházející části by měl být funkční tento kód: \n"
   ]
  },
  {
   "cell_type": "code",
   "execution_count": 2,
   "metadata": {
    "collapsed": true
   },
   "outputs": [],
   "source": [
    "import chess_exercise01 as chess\n",
    "ch = chess.Chessboard(\"RnBkQbNr\")\n",
    "f = open(\"pokus.htm\", \"w\")\n",
    "html = ch.get_html()\n",
    "f.write(html)\n",
    "f.close()"
   ]
  },
  {
   "cell_type": "markdown",
   "metadata": {},
   "source": [
    "Jeho výsledkem by měl být HTML soubor [pokus.htm](pokus.htm) zobrazující zadanou pozici figur. "
   ]
  },
  {
   "cell_type": "markdown",
   "metadata": {},
   "source": [
    "## Serverová aplikace v Pythonu\n",
    "\n",
    "Naším nejbližším dalším cílem bude vytvoření jednoduché serverové aplikace, která bude vracet webovou stránku s obrázkem šachovnice a na ní zobrazených figur. Rozmístění figur bude odpovídat řetězci, který zadáme v URL. Např.: <adresa serveru>/chessboard/3KQ by měla vrátit šachovnici s bílým králem a dámou ve své výchozí pozici. \n",
    "\n",
    "### pythonanywhere.com\n",
    "\n",
    "Server vytvoříme jednoduše pomocí služby https://www.pythonanywhere.com. Zde si zřídíme účet - stačí ten zadarmo (demonstruji na účtu jardacarda). Po prvním přihlášení není vytvořena a spuštěna žádná webová aplikace. Na výchozí stránce (dashboard) vybereme volbu web a následně Add new web app. U neplaceného účtu můžeme vytvořit pouze aplikaci běžící v doméně pythonanywhere.com, takže volíme Next. Nyní si můžeme vybrat, jakého typu naše aplikace bude. \n",
    "\n",
    "### Bottle\n",
    "\n",
    "Třeba se časem dopracujeme i k velmi rozšířenému webovém frameworku Django, ale pro jednoduchost a demonstraci základních principů použijeme Bottle. V další obrazovce vybereme verzi Pythonu, ve které budeme aplikaci vytvářet. Můžeme zvolit nejvyšší trojkovou verzi, která je zde k dispozici. Dále jsme dotazování na jméno a umístění naší aplikace. Opět volíme nabízenou variantu tedy /home/&lt;jméno&gt;/mysite/bottle_app.py. \n",
    "\n",
    "Za chvilku budete informováni, že byla aplikace spuštěna a že je dostupná na adrese &lt;jméno&gt;.pythonanywhere.com. Když tuto adresu otevřeme v prohlížeči, zobrazí se Hello from Bottle! \n",
    "\n",
    "### WSGI\n",
    "\n",
    "Jak k tomu zázraku došlo? Pythonanywhere poskytuje služby svého webového serveru prostřednictvím rozhraní WSGI, což je vlastně standradizovaný interface mezi webovým serverem a naší pythoní aplikací. Konfiguraci tohoto rozhraní pythonanywhere udělal za nás na základě volby frameworku Bottle a cesty k aplikaci. Konfigurační soubor najdeme v adresáři /var/www, jeho název bude <jméno>_pythonanywhere_com_wsgi.py. Pokud budeme chtít změnit jméno nebo umístění naší aplikace musíme v tomto souboru změnit project_home eventuálně from ... import application: "
   ]
  },
  {
   "cell_type": "code",
   "execution_count": 11,
   "metadata": {
    "collapsed": true
   },
   "outputs": [],
   "source": [
    "# This file contains the WSGI configuration required to serve up your\n",
    "# web application at http://<your-username>.pythonanywhere.com/\n",
    "# It works by setting the variable 'application' to a WSGI handler of some\n",
    "# description.\n",
    "#\n",
    "# The below has been auto-generated for your Bottle project\n",
    "import bottle\n",
    "import os\n",
    "import sys\n",
    "\n",
    "# add your project directory to the sys.path\n",
    "project_home = u'/home/jardacarda/mysite'\n",
    "if project_home not in sys.path:\n",
    "    sys.path = [project_home] + sys.path\n",
    "\n",
    "# make sure the default templates directory is known to Bottle\n",
    "templates_dir = os.path.join(project_home, 'views/')\n",
    "if templates_dir not in bottle.TEMPLATE_PATH:\n",
    "    bottle.TEMPLATE_PATH.insert(0, templates_dir)\n",
    "\n",
    "# import bottle application\n",
    "from bottle_app import application\n"
   ]
  },
  {
   "cell_type": "markdown",
   "metadata": {},
   "source": [
    "### bottle_app.py\n",
    "\n",
    "Výchozí ukázková aplikace bottle_app.py v adresáři ~/mysite bude vypadat asi takhle: "
   ]
  },
  {
   "cell_type": "code",
   "execution_count": 12,
   "metadata": {
    "collapsed": true
   },
   "outputs": [],
   "source": [
    "# A very simple Bottle Hello World app for you to get started with...\n",
    "from bottle import default_app, route\n",
    "\n",
    "@route('/')\n",
    "def hello_world():\n",
    "    return 'Hello from Bottle!'\n",
    "\n",
    "application = default_app()"
   ]
  },
  {
   "cell_type": "markdown",
   "metadata": {
    "collapsed": true
   },
   "source": [
    "I když plně neporozumíme významu tohoto kódu, tak je asi jasné, že funkce hello_world() vrací řetězec, který je pak zobrazen browserem. Když se podíváme na zdrojový kód stránky v browseru (ctrl + u), tak vidíme, že tam skutečně je přesně to, co ta funkce vrací. Nic víc a nic míň. Zkuste funkci upravit, aby vrátila validní HTML kód. Třeba takhle: "
   ]
  },
  {
   "cell_type": "code",
   "execution_count": 13,
   "metadata": {
    "collapsed": true
   },
   "outputs": [],
   "source": [
    "def hello_world(): \n",
    "    html = \"\"\"<!DOCTYPE html>\n",
    "<html>\n",
    "\t<head>\n",
    "\t\t<title>my bottle page</title>\n",
    "\t\t<meta http-equiv=\"Content-Type\" content=\"text/html; charset=utf-8\">\n",
    "\t</head>\n",
    "\t<body>\n",
    "        <h1>Hello from Bottle!</h1>\n",
    "        <p>The bottle is in the Python language not in the sea...</p>\n",
    "\t</body>\n",
    "</html>\n",
    "\"\"\"\n",
    "    return html"
   ]
  },
  {
   "cell_type": "markdown",
   "metadata": {},
   "source": [
    "Nezapomeňte upravený kód uložit a spustit reload aplikace. Buď v sekci Web, kde jste aplikaci vytvářeli nebo pomocí tlačítka vpravo nahoře přímo v editoru. Pokud tedy editor ze sekce Files používáte. \n",
    "\n",
    "### dekorátor\n",
    "\n",
    "Naše funkce se může jmenovat libovolně. Rozhodující je, že před její definicí je kouzelná konstrukce @route('/'), které se říká [dekorátor](chess_exercise_decorator.ipynb). Funkce route, kterou dekorujeme naši funkci má parametr - v tomto případě \"/\". Co to znamená? Že ta naše funkce se spustí v případě, že z prohlížeče přijde požadavek na root (\"/\") našeho webu. Pokud bychom chtěli zareagovat na jinou adresu, změníme parametr funkce route. Před naši funkci můžeme dát dekorátorů @route víc, takže může reagovat na různé URL. Pokud chceme na jiné URL reagovat jinak, definujeme další funkci, atu opět odekorujeme pomocí @route. Může to vypadat třeba takhle: "
   ]
  },
  {
   "cell_type": "code",
   "execution_count": 14,
   "metadata": {
    "collapsed": true
   },
   "outputs": [],
   "source": [
    "# my Bottle application\n",
    "from bottle import default_app, route\n",
    "\n",
    "@route('/')\n",
    "@route('/home')\n",
    "@route('/home/')\n",
    "def home():\n",
    "    return \"home site\"\n",
    "\n",
    "@route('/chess')\n",
    "@route('/chess/')\n",
    "def chess(): \n",
    "    return \"chess exercises\"\n",
    "\n",
    "application = default_app()\n"
   ]
  }
 ],
 "metadata": {
  "kernelspec": {
   "display_name": "Python 3.5",
   "language": "python",
   "name": "python3.5"
  },
  "language_info": {
   "codemirror_mode": {
    "name": "ipython",
    "version": 3
   },
   "file_extension": ".py",
   "mimetype": "text/x-python",
   "name": "python",
   "nbconvert_exporter": "python",
   "pygments_lexer": "ipython3",
   "version": "3.5.2"
  }
 },
 "nbformat": 4,
 "nbformat_minor": 0
}
